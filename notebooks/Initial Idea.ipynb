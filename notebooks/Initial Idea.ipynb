{
 "cells": [
  {
   "cell_type": "code",
   "execution_count": 2,
   "id": "a670faa1-aeb8-4bc0-b2b5-e6a6a2c5326d",
   "metadata": {},
   "outputs": [
    {
     "data": {
      "text/plain": [
       "True"
      ]
     },
     "execution_count": 2,
     "metadata": {},
     "output_type": "execute_result"
    }
   ],
   "source": [
    "import os\n",
    "while 'notebooks' in os.getcwd():\n",
    "    os.chdir('..')\n",
    "    \n",
    "from dotenv import load_dotenv\n",
    "load_dotenv()"
   ]
  },
  {
   "cell_type": "code",
   "execution_count": 47,
   "id": "69e1cb7b-3eed-4b15-a978-2af37bc4fcb1",
   "metadata": {},
   "outputs": [],
   "source": [
    "from typing import Union\n",
    "\n",
    "import requests\n",
    "\n",
    "from openai import OpenAI\n",
    "from googlesearch import search\n",
    "from bs4 import BeautifulSoup\n",
    "from pydantic import BaseModel"
   ]
  },
  {
   "cell_type": "code",
   "execution_count": 87,
   "id": "fc70e4b7-02cf-4dbe-b496-56bbd55dcc2f",
   "metadata": {},
   "outputs": [],
   "source": [
    "urls = list(search(\"ufc 300\", num_results=10, region=\"Poland\"))"
   ]
  },
  {
   "cell_type": "code",
   "execution_count": 88,
   "id": "d95bc454-f89f-45e1-9060-2ffcd9ce2090",
   "metadata": {},
   "outputs": [],
   "source": [
    "url = urls[0]\n",
    "response = requests.get(url)\n",
    "html = response.text\n",
    "soup = BeautifulSoup(html, \"html.parser\")"
   ]
  },
  {
   "cell_type": "code",
   "execution_count": 92,
   "id": "c4dfb67e-3ddb-4abb-8442-d0621d1bf07d",
   "metadata": {},
   "outputs": [],
   "source": [
    "text = soup.body.get_text().strip()\n",
    "# print(text[:1000])"
   ]
  },
  {
   "cell_type": "code",
   "execution_count": 82,
   "id": "b557d69a-f279-4c0c-a55b-f5db56206c19",
   "metadata": {},
   "outputs": [],
   "source": [
    "def parse_url(url: str):\n",
    "    response = requests.get(url)\n",
    "    html = response.text\n",
    "    soup = BeautifulSoup(html, \"html.parser\")\n",
    "    if soup.body is None:\n",
    "        print(f\"Could not find a body for url: {url}\")\n",
    "        return None\n",
    "    return soup.body.get_text().strip()\n",
    "\n",
    "\n",
    "def get_websites(query: str, num_results: int = 10):\n",
    "    for url in search(query, num_results=num_results):\n",
    "        parsed_text = parse_url(url)\n",
    "        if parsed_text is None:\n",
    "            continue\n",
    "        yield parsed_text"
   ]
  },
  {
   "cell_type": "code",
   "execution_count": 67,
   "id": "01630de0-6911-4905-9b4d-6a983e7d4e73",
   "metadata": {},
   "outputs": [],
   "source": [
    "class LLM:\n",
    "    def __init__(self, system_prompt: str = None, model: str = 'gpt-4.1', response_format=None):\n",
    "        self.client = OpenAI()\n",
    "        self.system_prompt = system_prompt\n",
    "        self.model = model\n",
    "        self.response_format = response_format\n",
    "    \n",
    "    def __call__(self, message: str):\n",
    "        messages = []\n",
    "        if self.system_prompt:\n",
    "            messages.append({\"role\": \"system\", \"content\": self.system_prompt})\n",
    "        messages.append({\"role\": \"user\", \"content\": message})\n",
    "        if self.response_format:\n",
    "            response = self.client.chat.completions.parse(messages=messages, model=self.model, response_format=self.response_format)\n",
    "            return response.choices[0].message.parsed\n",
    "        else:\n",
    "            response = self.client.chat.completions.create(messages=messages, model=self.model)\n",
    "            return response.choices[0].message.content"
   ]
  },
  {
   "cell_type": "code",
   "execution_count": 93,
   "id": "4b99c57c-7c1c-4003-b289-344d75c86641",
   "metadata": {},
   "outputs": [],
   "source": [
    "class ResponseModel(BaseModel):\n",
    "    items: list[str]\n",
    "    \n",
    "    \n",
    "llm = LLM(\"Given a keyword provided by a user, please provide 10 queries to a Google search engine about that subject. Return responses in Italian\", response_format=ResponseModel)"
   ]
  },
  {
   "cell_type": "code",
   "execution_count": 94,
   "id": "6e99f106-db80-4b31-93c1-5cf3c1ed4869",
   "metadata": {},
   "outputs": [
    {
     "data": {
      "text/plain": [
       "['Ricette di cucina facili e veloci',\n",
       " 'Consigli per cucinare piatti salutari',\n",
       " 'Tecniche base di cottura in cucina',\n",
       " 'Come imparare a cucinare da zero',\n",
       " 'Corsi di cucina online gratuiti',\n",
       " 'Ricette tradizionali italiane',\n",
       " 'Utensili indispensabili in cucina',\n",
       " 'Segreti degli chef per una cucina perfetta',\n",
       " 'Cucina vegetariana: idee e ricette',\n",
       " 'Come preparare dolci fatti in casa']"
      ]
     },
     "execution_count": 94,
     "metadata": {},
     "output_type": "execute_result"
    }
   ],
   "source": [
    "queries = llm(\"cooking\").items\n",
    "queries"
   ]
  },
  {
   "cell_type": "code",
   "execution_count": 95,
   "id": "123aac2c-a64f-404a-875b-35d3e1baf80a",
   "metadata": {},
   "outputs": [],
   "source": [
    "query = queries[0]\n",
    "text = next(get_websites(query))"
   ]
  },
  {
   "cell_type": "code",
   "execution_count": 96,
   "id": "c8497135-e152-47af-ac53-0efa7caf69ab",
   "metadata": {},
   "outputs": [],
   "source": [
    "cleaner_llm = LLM(\"Given a raw parsed text from a website, return its cleaned-up version. Returned only the cleaned up version\")"
   ]
  },
  {
   "cell_type": "code",
   "execution_count": 97,
   "id": "5b157e00-263a-4f6f-b7a3-18c08498606b",
   "metadata": {},
   "outputs": [],
   "source": [
    "clean_text = cleaner_llm(text)"
   ]
  },
  {
   "cell_type": "code",
   "execution_count": 98,
   "id": "11728b91-2dc0-48b1-9e20-b0622c9e5f89",
   "metadata": {},
   "outputs": [
    {
     "name": "stdout",
     "output_type": "stream",
     "text": [
      "Ricette facili e veloci\n",
      "\n",
      "Nella vostra personale top list delle ricette facili e veloci cosa ci mettereste? Noi abbiamo selezionato un po’ di idee, quelle che funzionano di più a tavola e con gli amici. Magari riuscirete ad organizzare tutto un menù, partendo dall’antipasto finger di bufala e gamberi. Stimolare il palato è essenziale per il buon appetito e se si può giocare con i colori perché non farlo? Le tagliatelle fave e stracciatella manderanno in visibilio le vostre percezioni. Con un po’ di cuore, passione e divertimenti si possono preparare ricette sfiziose come gli straccetti di manzo glassati al balsamico. E per concludere il dolce presto fatto: soltanto 10 minuti per prepararlo e anche meno per finirlo… siamo pronti a scommettere!\n",
      "\n",
      "Ricette veloci con la pasta\n",
      "\n",
      "Amanti delle ricette di pasta veloci, affilate le forchette: stanno uscendo dalla nostra cucina idee sfiziose e saporite! Cominciamo dal più grande classico che abbiamo preferito rendere più profumato e saporito: la pasta tonno e limone, resterete sorpresi dal tocco di originalità! Direttamente dalla tradizione verace e popolare della bellissima Napoli ecco i tagliolini alle vongole fujute. Un altro primo piatto campano dal sapore squisito è la pasta cacio e ova, una ricetta facile e veloce da preparare con pochi ingredienti.\n",
      "\n",
      "Ricette estive veloci\n",
      "\n",
      "La voglia di stare fuori casa per prendere una boccata d’aria fresca o un tuffo in acqua è troppo forte. Ma bisogna pur cucinare qualcosa, no? Ecco allora le nostre migliori ricette estive veloci. Per cominciare, i tacos veloci: semplici, sfiziosi e soprattutto da poter comporre al momento! Altrimenti mettete nel vostro cestino un buon sandwich di fave e formaggio: niente di più facile, sano e saporito! Ma il vero classico, che non conosce mode e tempo, è sempre la pasta fredda da preparare con tutte le verdurine fresche che preferite!\n",
      "\n",
      "Ricette veloci per cena\n",
      "\n",
      "Siete a malapena riusciti a scappare dal lavoro per organizzare la cena con gli amici? È tardi, ma ormai avevate promesso! Ecco un menu veloce da fare! Un’insalatina sfiziosa per cominciare? Provate l’insalata di rucola, pere, grana e noci. E due fili di pasta non li preparate? Con un sughetto molto originale, ecco i fusilli al pesto di pistacchi e pomodorini. Niente salmone o branzino: stasera mettete in tavola la coda di rospo con patate, una prelibatezza diversa dal solito! Per chiudere in bellezza la regina di tutte le crostate, la più amata dai piccoli e dai grandi: la crostata alla Nutella.\n",
      "\n",
      "Ricette vegetariane veloci\n",
      "\n",
      "Volete preparare un po’ di ricette facendo a meno di carne e pesce? Cominciate magari con l’aperitivo. Spalmate su dei crostini di pane del buonissimo hummus di avocado, un sapore originale e sorprendente! Un look total black, o quasi, un po’ unconventional ma di sicuro effetto (soprattutto in termini di gusto!) ecco l’insalata di riso venere. Conquistate i vostri ospiti con la torta salata alla barbabietola, conquisterà anche chi non ama il suo sapore: garantito!\n",
      "\n",
      "Antipasti veloci\n",
      "\n",
      "Che si tratti dell’aperitivo, di un buffet o di sfizi da servire agli ospiti ci vogliono sempre degli antipasti veloci e possibilmente sfiziosi, di quelli che impegnano poco tempo ai fornelli, come i nodini di parmigiano, davvero irresistibili! Sorprendete gli amici con la rivisitazione di un piatto classico e un tocco di originalità: Caesar salad di pollo su lattuga baby. Infine, per tutti gli amanti delle polpette, ecco una versione speciale: polpettine in crosta di sesamo!\n",
      "\n",
      "Primi piatti veloci\n",
      "\n",
      "Ma oggi che preparo? Quante volte avete esclamato questa frase e quante volte siete riusciti a trovare un primo piatto sfizioso? Da oggi non dovrete più preoccuparvi: ci pensiamo noi con le nostre ricette. Qualche esempio? Sicuramente un’insalata di farro e orzo estiva, un piatto davvero salutare e sfizioso! Un mito intramontabile come la pasta e zucchine che prepariamo in maniera molto originale: scoprite come! E per finire dedicatevi una vera coccola, il risotto alla parmigiana: semplice, confortante e infinitamente buono!\n",
      "\n",
      "Secondi piatti veloci\n",
      "\n",
      "Parola chiave: poco tempo per preparare dei secondi sfiziosi. Nessun problema, abbiamo le idee giuste per voi! Che ne dite dei petti di pollo al latte? Succosi e teneri, da sciogliersi in bocca! Munitevi di griglia e pomodorini: potrete portare in tavola un ottimo trancio di ombrina grigliato. Per un’alternativa vegetariana, colorata e per niente banale: uova sbattute e verdure di stagione, ovvero la frittata primavera!\n",
      "\n",
      "Dolci veloci\n",
      "\n",
      "Sono arrivati gli amici dei vostri figli a casa e volete preparare un dolce in maniera semplice e veloce? Oppure fuori piove e avete solo una manciata di ingredienti e volete idee giuste per dolci? Innanzitutto vediamo se con i dorayaki, le famose focaccine giapponesi, riusciamo a sorprendervi! E che dire dei golosi french toast alle fragole e mascarpone, magari da trasformare in una deliziosa colazione da dividere con la propria metà. Se preferite un dolce da sgranocchiare abbiamo dei biscotti fantastici: niente frolla, giusto 4 ingredienti per preparare i Nutellotti!\n",
      "\n",
      "Ecco alcune delle ricette più amate di GialloZafferano:\n",
      "\n",
      "Dolci\n",
      "\n",
      "Torta Tenerina\n",
      "La torta tenerina è una specialità al cioccolato di Ferrara: sormontata da una croccante crosticina e con un cuore tenerissimo e umido.\n",
      "Preparazione: 45 min | Kcal 369\n",
      "\n",
      "Crepe dolci e salate (ricetta base)\n",
      "Un impasto base perfetto per crepe dolci e salate da farcire come preferite.\n",
      "Preparazione: 25 min | Kcal 270\n",
      "\n",
      "Crepe alla Nutella\n",
      "Scoprite i segreti per una crepe alla Nutella perfetta da gustare a merenda, dessert o spuntino.\n",
      "Preparazione: 40 min | Kcal 287\n",
      "\n",
      "Pancake\n",
      "Pancake morbidi e golosi, pronti in 10 minuti: la ricetta originale americana!\n",
      "Preparazione: 30 min | Kcal 263\n",
      "\n",
      "Rotolo alla Nutella\n",
      "Dolce preparato con una base di pasta biscotto arrotolata e farcita con crema al cacao e nocciole.\n",
      "Preparazione: 39 min | Kcal 364\n",
      "\n",
      "Crema pasticcera\n",
      "La crema pasticcera è semplice da preparare a casa, liscia e senza grumi con i consigli di Iginio Massari.\n",
      "Preparazione: 23 min\n",
      "\n",
      "Muffin con gocce di cioccolato\n",
      "Soffici muffin con un gusto delicato e ricco di gocce di cioccolato.\n",
      "Preparazione: 35 min | Kcal 270\n",
      "\n",
      "Primi piatti\n",
      "\n",
      "Spaghetti alla Carbonara\n",
      "Tuorli, guanciale croccante, pecorino e pepe: la ricetta romana autentica.\n",
      "Preparazione: 25 min | Kcal 559\n",
      "\n",
      "Spaghetti all’Amatriciana\n",
      "La ricetta originale per un primo piatto laziale gustoso e veloce.\n",
      "Preparazione: 35 min | Kcal 549\n",
      "\n",
      "Insalata di riso\n",
      "Un piatto estivo fresco e leggero, perfetto da preparare in anticipo.\n",
      "Preparazione: 35 min | Kcal 647\n",
      "\n",
      "Pasta alla gricia\n",
      "Tipico primo laziale a base di guanciale e Pecorino.\n",
      "Preparazione: 30 min | Kcal 602\n",
      "\n",
      "Salse e Sughi\n",
      "\n",
      "Pesto alla Genovese\n",
      "Condimento ligure a base di basilico, pinoli e formaggio: tradizionale e profumato.\n",
      "Preparazione: 30 min | Kcal 289\n",
      "\n",
      "Besciamella\n",
      "La salsa cremosa perfetta per arricchire primi, secondi e contorni.\n",
      "Preparazione: 15 min | Kcal 368\n",
      "\n",
      "Guacamole\n",
      "Salsa messicana a base di avocado, ideale con nachos e tortillas.\n",
      "Preparazione: 20 min | Kcal 143\n",
      "\n",
      "Antipasti\n",
      "\n",
      "Hummus\n",
      "Salsa mediorientale di ceci, veloce e perfetta anche per aperitivi vegan.\n",
      "Preparazione: 15 min | Kcal 936\n",
      "\n",
      "Queste sono alcune delle proposte più amate tra le ricette facili e veloci di GialloZafferano: per altre idee, trucchi e ricette consulta la selezione completa!\n"
     ]
    }
   ],
   "source": [
    "print(clean_text)"
   ]
  },
  {
   "cell_type": "code",
   "execution_count": 113,
   "id": "7af8201d-a015-4e82-8899-5704dfa433c5",
   "metadata": {},
   "outputs": [],
   "source": [
    "phrase_llm = LLM(\"You are a tutor for an Italian language. Given a text, return a list of useful phrases for a language learner. Return exact phrases from the text, without any modifications (including puctuation)\", response_format=ResponseModel)\n",
    "phrases = phrase_llm(text)"
   ]
  },
  {
   "cell_type": "code",
   "execution_count": 114,
   "id": "b554b14b-cc16-4e4f-9592-d274ec549be7",
   "metadata": {},
   "outputs": [
    {
     "data": {
      "text/plain": [
       "55"
      ]
     },
     "execution_count": 114,
     "metadata": {},
     "output_type": "execute_result"
    }
   ],
   "source": [
    "len(phrases.items)"
   ]
  },
  {
   "cell_type": "code",
   "execution_count": 115,
   "id": "a0cd4d5d-6cc5-413b-a080-7ac6c5165b5c",
   "metadata": {},
   "outputs": [
    {
     "data": {
      "text/plain": [
       "55"
      ]
     },
     "execution_count": 115,
     "metadata": {},
     "output_type": "execute_result"
    }
   ],
   "source": [
    "sum(phrase in text for phrase in phrases.items)"
   ]
  },
  {
   "cell_type": "code",
   "execution_count": 117,
   "id": "d55d690b-bec0-40c2-8216-4681f926dee2",
   "metadata": {},
   "outputs": [],
   "source": [
    "def get_neighbouring_context(text, substring, context_size=5):\n",
    "    index = text.find(substring)\n",
    "    if index == -1:\n",
    "        return None  # substring not found\n",
    "    \n",
    "    start = max(0, index - context_size)\n",
    "    end = min(len(text), index + len(substring) + context_size)\n",
    "    \n",
    "    return text[start:end]\n"
   ]
  },
  {
   "cell_type": "code",
   "execution_count": 123,
   "id": "f55ea662-2970-4dbb-a38d-22e6a7d79f3c",
   "metadata": {},
   "outputs": [
    {
     "name": "stdout",
     "output_type": "stream",
     "text": [
      "Ricette facili e veloci\n"
     ]
    }
   ],
   "source": [
    "print(phrases.items[0])\n",
    "# print(get_neighbouring_context(text, phrases.items[0], 100))"
   ]
  },
  {
   "cell_type": "code",
   "execution_count": 126,
   "id": "674ff94c-6d23-466d-9eb4-61a72a97740e",
   "metadata": {},
   "outputs": [],
   "source": [
    "translator_llm = LLM(\"Given a text in Italian, translate it to English.\")"
   ]
  },
  {
   "cell_type": "code",
   "execution_count": 130,
   "id": "e5813906-4ed5-49d8-bfc3-2a041b1303be",
   "metadata": {},
   "outputs": [
    {
     "data": {
      "text/plain": [
       "'Easy and quick recipes'"
      ]
     },
     "execution_count": 130,
     "metadata": {},
     "output_type": "execute_result"
    }
   ],
   "source": [
    "translated_phrase = translator_llm(phrases.items[0])\n",
    "translated_phrase"
   ]
  },
  {
   "cell_type": "code",
   "execution_count": 138,
   "id": "23decf9a-84e7-4ef6-a9f0-c84d533990e9",
   "metadata": {},
   "outputs": [],
   "source": [
    "tutor_llm = LLM(f\"The user provides you with a phrase in Italian and its proposed English translation. Explain the phrase and give alternative if possible. Return just the explanation and alternatives\")"
   ]
  },
  {
   "cell_type": "code",
   "execution_count": 139,
   "id": "0baf2024-cbe1-43fe-b6da-287acdd6ec08",
   "metadata": {},
   "outputs": [
    {
     "data": {
      "text/plain": [
       "'The Italian phrase \"Ricette facili e veloci\" translates directly to \"Easy and quick recipes\" in English. It is used to describe recipes that are both simple to prepare (\"facili\") and fast to make (\"veloci\"). \\n\\n**Alternatives:**\\n- Ricette rapide e semplici\\n- Ricette veloci e semplici\\n- Piatti facili e veloci\\n\\nAll of these convey the idea of recipes that do not require much time or complexity.'"
      ]
     },
     "execution_count": 139,
     "metadata": {},
     "output_type": "execute_result"
    }
   ],
   "source": [
    "tutor_llm(f\"English: {translated_phrase} \\n\\n --- \\n\\n Italian: {phrases.items[0]}\")"
   ]
  }
 ],
 "metadata": {
  "kernelspec": {
   "display_name": "Python 3 (ipykernel)",
   "language": "python",
   "name": "python3"
  },
  "language_info": {
   "codemirror_mode": {
    "name": "ipython",
    "version": 3
   },
   "file_extension": ".py",
   "mimetype": "text/x-python",
   "name": "python",
   "nbconvert_exporter": "python",
   "pygments_lexer": "ipython3",
   "version": "3.9.13"
  }
 },
 "nbformat": 4,
 "nbformat_minor": 5
}
